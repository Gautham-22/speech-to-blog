{
 "cells": [
  {
   "cell_type": "code",
   "execution_count": null,
   "metadata": {},
   "outputs": [],
   "source": [
    "import requests\n",
    "from bs4 import BeautifulSoup\n",
    "import re\n",
    "import csv\n",
    "\n",
    "for count in range(2000):\n",
    "\n",
    "    # URL of the Wikihow page to scrape\n",
    "    url = 'https://www.wikihow.com/Special:Randomizer'\n",
    "\n",
    "    # Send an HTTP request to the URL and receive the HTML content\n",
    "    response = requests.get(url)\n",
    "    html_content = response.content\n",
    "\n",
    "\n",
    "    # Parse the HTML content using BeautifulSoup\n",
    "    soup = BeautifulSoup(html_content, 'html.parser')\n",
    "    article_title = soup.find('title').text.strip()\n",
    "    print(article_title+\" \"+str(count))\n",
    "\n",
    "    # Extract the subheadings and paragraphs using the appropriate HTML tags\n",
    "\n",
    "    subheadings = []\n",
    "    paragraphs = []\n",
    "    steps = soup.find_all('div', {'class': 'step'})\n",
    "    for step in steps:\n",
    "        subheading_element = step.find('b')\n",
    "        subheading_text = subheading_element.text.strip().replace('\\n','')\n",
    "        subheading_text = subheading_text.encode('ascii', errors='ignore').decode()\n",
    "        subheading_text = re.sub(r'\\[\\d+\\]', '', subheading_text)\n",
    "        subheadings.append(subheading_text)\n",
    "        subheading_element.extract()\n",
    "        for span_tag in step.find_all('span'):\n",
    "            span_tag.extract()\n",
    "        paragraph_text = step.text.strip().replace('\\n','').replace('&nbsp;', ' ')\n",
    "        paragraph_text = paragraph_text.encode('ascii', errors='ignore').decode()\n",
    "        paragraph_text = re.sub(r'\\[\\d+\\]', '', paragraph_text)\n",
    "        paragraphs.append(paragraph_text)\n",
    "        \n",
    "\n",
    "\n",
    "    with open('wikiHow.csv', mode='a', newline='',encoding='utf-8') as csv_file:\n",
    "        writer = csv.writer(csv_file)\n",
    "        for i in range(len(subheadings)):\n",
    "            writer.writerow([article_title,subheadings[i], paragraphs[i]])"
   ]
  }
 ],
 "metadata": {
  "language_info": {
   "name": "python"
  },
  "orig_nbformat": 4
 },
 "nbformat": 4,
 "nbformat_minor": 2
}
